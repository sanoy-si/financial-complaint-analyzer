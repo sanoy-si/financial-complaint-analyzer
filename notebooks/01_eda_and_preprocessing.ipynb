{
 "cells": [
  {
   "cell_type": "code",
   "execution_count": null,
   "id": "b56e7f81",
   "metadata": {
    "vscode": {
     "languageId": "plaintext"
    }
   },
   "outputs": [],
   "source": [
    "import pandas as pd\n",
    "import matplotlib.pyplot as plt\n",
    "import seaborn as sns\n",
    "import sys\n",
    "import os\n",
    "\n",
    "# --- Configuration ---\n",
    "module_path = os.path.abspath(os.path.join('..'))\n",
    "if module_path not in sys.path:\n",
    "    sys.path.append(module_path)\n",
    "\n",
    "from src.complaint_analyst.data_processing import load_complaints, preprocess_data\n",
    "\n",
    "# --- Constants ---\n",
    "RAW_DATA_PATH = '../data/raw/complaints.csv'\n",
    "PROCESSED_DATA_PATH = '../data/processed/filtered_complaints.csv'\n",
    "PRODUCTS_TO_INCLUDE = [\n",
    "    'Credit card or prepaid card',\n",
    "    'Personal loan',\n",
    "    'Payday loan, title loan, or personal loan', # This will be grouped into 'Personal loan'\n",
    "    'Checking or savings account',\n",
    "    'Money transfer, virtual currency, or money service'\n",
    "]\n",
    "\n",
    "# --- Plotting Style ---\n",
    "sns.set_theme(style=\"whitegrid\")\n",
    "plt.rcParams['figure.figsize'] = (10, 6)"
   ]
  },
  {
   "cell_type": "code",
   "execution_count": null,
   "id": "a22f313f",
   "metadata": {
    "vscode": {
     "languageId": "plaintext"
    }
   },
   "outputs": [],
   "source": [
    "df_raw = load_complaints(RAW_DATA_PATH)\n",
    "df_raw.info()"
   ]
  },
  {
   "cell_type": "code",
   "execution_count": null,
   "id": "8451aaf7",
   "metadata": {
    "vscode": {
     "languageId": "plaintext"
    }
   },
   "outputs": [],
   "source": [
    "print(\"Top 20 products by complaint volume:\")\n",
    "product_counts = df_raw['Product'].value_counts().nlargest(20)\n",
    "print(product_counts)\n",
    "\n",
    "# Visualize the distribution\n",
    "plt.figure(figsize=(10, 8))\n",
    "sns.barplot(y=product_counts.index, x=product_counts.values, palette='viridis')\n",
    "plt.title('Top 20 Products by Complaint Volume')\n",
    "plt.xlabel('Number of Complaints')\n",
    "plt.ylabel('Product')\n",
    "plt.show()"
   ]
  },
  {
   "cell_type": "code",
   "execution_count": null,
   "id": "b68708d5",
   "metadata": {
    "vscode": {
     "languageId": "plaintext"
    }
   },
   "outputs": [],
   "source": [
    "narrative_counts = df_raw['Consumer complaint narrative'].notna().value_counts()\n",
    "print(\"Complaints with/without narratives:\")\n",
    "print(narrative_counts)\n",
    "\n",
    "narrative_counts.plot(kind='pie', labels=['With Narrative', 'Without Narrative'], autopct='%1.1f%%',\n",
    "                      title='Proportion of Complaints With Narratives', legend=False)\n",
    "plt.ylabel('') # Hide the y-label\n",
    "plt.show()\n",
    "\n",
    "df_with_narratives = df_raw.dropna(subset=['Consumer complaint narrative'])\n",
    "narrative_lengths = df_with_narratives['Consumer complaint narrative'].str.split().str.len()\n",
    "\n",
    "plt.figure(figsize=(12, 6))\n",
    "sns.histplot(narrative_lengths, bins=50, kde=True)\n",
    "plt.title('Distribution of Complaint Narrative Length (Word Count)')\n",
    "plt.xlabel('Word Count')\n",
    "plt.ylabel('Frequency')\n",
    "plt.xlim(0, 1000) # Zoom in on the most common lengths\n",
    "plt.show()\n",
    "\n",
    "print(\"\\nDescriptive statistics for narrative length:\")\n",
    "print(narrative_lengths.describe())"
   ]
  },
  {
   "cell_type": "code",
   "execution_count": null,
   "id": "f93d3e9e",
   "metadata": {
    "vscode": {
     "languageId": "plaintext"
    }
   },
   "outputs": [],
   "source": [
    "df_to_process = df_raw.copy()\n",
    "\n",
    "product_mapping = {\n",
    "    'Credit card or prepaid card': 'Credit Card',\n",
    "    'Credit card': 'Credit Card',\n",
    "    'Prepaid card': 'Credit Card',\n",
    "    'Personal loan': 'Personal Loan',\n",
    "    'Payday loan, title loan, or personal loan': 'Personal Loan',\n",
    "    'Payday loan': 'Personal Loan',\n",
    "    'Checking or savings account': 'Savings Account',\n",
    "    'Money transfer, virtual currency, or money service': 'Money Transfers',\n",
    "    'Virtual currency': 'Money Transfers',\n",
    "}\n",
    "df_to_process['Product'] = df_to_process['Product'].map(product_mapping).fillna(df_to_process['Product'])\n",
    "\n",
    "# Standardize product list for filtering\n",
    "PRODUCTS_TO_INCLUDE_STANDARDIZED = ['Credit Card', 'Personal Loan', 'Savings Account', 'Money Transfers']\n",
    "\n",
    "\n",
    "df_processed = preprocess_data(df_to_process, PRODUCTS_TO_INCLUDE_STANDARDIZED)\n",
    "\n",
    "print(\"\\nProcessed DataFrame columns and head:\")\n",
    "print(df_processed.info())\n",
    "print(df_processed.head())"
   ]
  },
  {
   "cell_type": "code",
   "execution_count": null,
   "id": "f9ae8a5f",
   "metadata": {
    "vscode": {
     "languageId": "plaintext"
    }
   },
   "outputs": [],
   "source": [
    "pd.set_option('display.max_colwidth', None)\n",
    "print(\"Example of a raw vs. cleaned narrative:\")\n",
    "print(df_processed[['narrative', 'narrative_cleaned']].head(1))"
   ]
  },
  {
   "cell_type": "code",
   "execution_count": null,
   "id": "eb1ff406",
   "metadata": {
    "vscode": {
     "languageId": "plaintext"
    }
   },
   "outputs": [],
   "source": [
    "print(f\"Saving cleaned data to {PROCESSED_DATA_PATH}...\")\n",
    "os.makedirs(os.path.dirname(PROCESSED_DATA_PATH), exist_ok=True)\n",
    "df_processed.to_csv(PROCESSED_DATA_PATH, index=False)\n",
    "print(\"Done.\")"
   ]
  }
 ],
 "metadata": {
  "language_info": {
   "name": "python"
  }
 },
 "nbformat": 4,
 "nbformat_minor": 5
}
